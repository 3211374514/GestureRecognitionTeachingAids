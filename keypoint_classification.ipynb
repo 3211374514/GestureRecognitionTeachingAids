{
 "cells": [
  {
   "cell_type": "code",
   "execution_count": 1,
   "metadata": {},
   "outputs": [],
   "source": [
    "import csv\n",
    "\n",
    "import numpy as np\n",
    "import tensorflow as tf\n",
    "from sklearn.model_selection import train_test_split\n",
    "\n",
    "RANDOM_SEED = 42"
   ]
  },
  {
   "cell_type": "markdown",
   "metadata": {},
   "source": [
    "# 路径指定"
   ]
  },
  {
   "cell_type": "code",
   "execution_count": 2,
   "metadata": {},
   "outputs": [],
   "source": [
    "dataset = 'model/keypoint_classifier/keypoint.csv'\n",
    "model_save_path = 'model/keypoint_classifier/keypoint_classifier.hdf5'"
   ]
  },
  {
   "cell_type": "markdown",
   "metadata": {},
   "source": [
    "# 手势分类数量指定"
   ]
  },
  {
   "cell_type": "code",
   "execution_count": 3,
   "metadata": {},
   "outputs": [],
   "source": [
    "NUM_CLASSES = 4"
   ]
  },
  {
   "cell_type": "markdown",
   "metadata": {},
   "source": [
    "# 训练数据加载"
   ]
  },
  {
   "cell_type": "code",
   "execution_count": 4,
   "metadata": {},
   "outputs": [],
   "source": [
    "X_dataset = np.loadtxt(dataset, delimiter=',', dtype='float32', usecols=list(range(1, (21 * 2) + 1)))"
   ]
  },
  {
   "cell_type": "code",
   "execution_count": 5,
   "metadata": {},
   "outputs": [],
   "source": [
    "y_dataset = np.loadtxt(dataset, delimiter=',', dtype='int32', usecols=(0))"
   ]
  },
  {
   "cell_type": "code",
   "execution_count": 6,
   "metadata": {},
   "outputs": [],
   "source": [
    "X_train, X_test, y_train, y_test = train_test_split(X_dataset, y_dataset, train_size=0.75, random_state=RANDOM_SEED)"
   ]
  },
  {
   "cell_type": "markdown",
   "metadata": {},
   "source": [
    "# 模型构建"
   ]
  },
  {
   "cell_type": "code",
   "execution_count": 7,
   "metadata": {},
   "outputs": [],
   "source": [
    "model = tf.keras.models.Sequential([\n",
    "    tf.keras.layers.Input((21 * 2, )),\n",
    "    tf.keras.layers.Dropout(0.2),\n",
    "    tf.keras.layers.Dense(20, activation='relu'),\n",
    "    tf.keras.layers.Dropout(0.4),\n",
    "    tf.keras.layers.Dense(10, activation='relu'),\n",
    "    tf.keras.layers.Dense(NUM_CLASSES, activation='softmax')\n",
    "])"
   ]
  },
  {
   "cell_type": "code",
   "execution_count": 8,
   "metadata": {},
   "outputs": [
    {
     "name": "stdout",
     "output_type": "stream",
     "text": [
      "Model: \"sequential\"\n",
      "_________________________________________________________________\n",
      " Layer (type)                Output Shape              Param #   \n",
      "=================================================================\n",
      " dropout (Dropout)           (None, 42)                0         \n",
      "                                                                 \n",
      " dense (Dense)               (None, 20)                860       \n",
      "                                                                 \n",
      " dropout_1 (Dropout)         (None, 20)                0         \n",
      "                                                                 \n",
      " dense_1 (Dense)             (None, 10)                210       \n",
      "                                                                 \n",
      " dense_2 (Dense)             (None, 4)                 44        \n",
      "                                                                 \n",
      "=================================================================\n",
      "Total params: 1114 (4.35 KB)\n",
      "Trainable params: 1114 (4.35 KB)\n",
      "Non-trainable params: 0 (0.00 Byte)\n",
      "_________________________________________________________________\n"
     ]
    }
   ],
   "source": [
    "model.summary()  # tf.keras.utils.plot_model(model, show_shapes=True)"
   ]
  },
  {
   "cell_type": "code",
   "execution_count": 9,
   "metadata": {},
   "outputs": [],
   "source": [
    "# 模型检查点回调\n",
    "cp_callback = tf.keras.callbacks.ModelCheckpoint(\n",
    "    model_save_path, verbose=1, save_weights_only=False)\n",
    "# 早期审查回调\n",
    "es_callback = tf.keras.callbacks.EarlyStopping(patience=20, verbose=1)"
   ]
  },
  {
   "cell_type": "code",
   "execution_count": 10,
   "metadata": {},
   "outputs": [],
   "source": [
    "# 模型编译\n",
    "model.compile(\n",
    "    optimizer='adam',\n",
    "    loss='sparse_categorical_crossentropy',\n",
    "    metrics=['accuracy']\n",
    ")"
   ]
  },
  {
   "cell_type": "markdown",
   "metadata": {},
   "source": [
    "# 模型训练"
   ]
  },
  {
   "cell_type": "code",
   "execution_count": 11,
   "metadata": {
    "scrolled": true
   },
   "outputs": [
    {
     "name": "stdout",
     "output_type": "stream",
     "text": [
      "Epoch 1/1000\n",
      " 1/32 [..............................] - ETA: 19s - loss: 1.5377 - accuracy: 0.2344\n",
      "Epoch 1: saving model to model/keypoint_classifier\\keypoint_classifier.hdf5\n",
      "32/32 [==============================] - 1s 9ms/step - loss: 1.4500 - accuracy: 0.2465 - val_loss: 1.3453 - val_accuracy: 0.3781\n",
      "Epoch 2/1000\n",
      "14/32 [============>.................] - ETA: 0s - loss: 1.3864 - accuracy: 0.2885\n",
      "Epoch 2: saving model to model/keypoint_classifier\\keypoint_classifier.hdf5\n",
      "32/32 [==============================] - 0s 4ms/step - loss: 1.3610 - accuracy: 0.3236 - val_loss: 1.3040 - val_accuracy: 0.4868\n",
      "Epoch 3/1000\n"
     ]
    },
    {
     "name": "stderr",
     "output_type": "stream",
     "text": [
      "C:\\Users\\culaccino\\AppData\\Local\\Programs\\Python\\Python38\\lib\\site-packages\\keras\\src\\engine\\training.py:3000: UserWarning: You are saving your model as an HDF5 file via `model.save()`. This file format is considered legacy. We recommend using instead the native Keras format, e.g. `model.save('my_model.keras')`.\n",
      "  saving_api.save_model(\n"
     ]
    },
    {
     "name": "stdout",
     "output_type": "stream",
     "text": [
      " 1/32 [..............................] - ETA: 0s - loss: 1.3390 - accuracy: 0.3750\n",
      "Epoch 3: saving model to model/keypoint_classifier\\keypoint_classifier.hdf5\n",
      "32/32 [==============================] - 0s 3ms/step - loss: 1.3018 - accuracy: 0.3812 - val_loss: 1.2253 - val_accuracy: 0.6109\n",
      "Epoch 4/1000\n",
      " 1/32 [..............................] - ETA: 0s - loss: 1.2928 - accuracy: 0.4297\n",
      "Epoch 4: saving model to model/keypoint_classifier\\keypoint_classifier.hdf5\n",
      "32/32 [==============================] - 0s 3ms/step - loss: 1.2510 - accuracy: 0.4321 - val_loss: 1.1264 - val_accuracy: 0.6858\n",
      "Epoch 5/1000\n",
      " 1/32 [..............................] - ETA: 0s - loss: 1.2519 - accuracy: 0.4219\n",
      "Epoch 5: saving model to model/keypoint_classifier\\keypoint_classifier.hdf5\n",
      "32/32 [==============================] - 0s 3ms/step - loss: 1.1780 - accuracy: 0.4734 - val_loss: 1.0124 - val_accuracy: 0.7452\n",
      "Epoch 6/1000\n",
      "30/32 [===========================>..] - ETA: 0s - loss: 1.1092 - accuracy: 0.5125\n",
      "Epoch 6: saving model to model/keypoint_classifier\\keypoint_classifier.hdf5\n",
      "32/32 [==============================] - 0s 3ms/step - loss: 1.1081 - accuracy: 0.5126 - val_loss: 0.9127 - val_accuracy: 0.7783\n",
      "Epoch 7/1000\n",
      " 1/32 [..............................] - ETA: 0s - loss: 1.0953 - accuracy: 0.4766\n",
      "Epoch 7: saving model to model/keypoint_classifier\\keypoint_classifier.hdf5\n",
      "32/32 [==============================] - 0s 3ms/step - loss: 1.0492 - accuracy: 0.5376 - val_loss: 0.8265 - val_accuracy: 0.8223\n",
      "Epoch 8/1000\n",
      " 1/32 [..............................] - ETA: 0s - loss: 0.9400 - accuracy: 0.6484\n",
      "Epoch 8: saving model to model/keypoint_classifier\\keypoint_classifier.hdf5\n",
      "32/32 [==============================] - 0s 3ms/step - loss: 0.9933 - accuracy: 0.5748 - val_loss: 0.7531 - val_accuracy: 0.8341\n",
      "Epoch 9/1000\n",
      " 1/32 [..............................] - ETA: 0s - loss: 1.0036 - accuracy: 0.5156\n",
      "Epoch 9: saving model to model/keypoint_classifier\\keypoint_classifier.hdf5\n",
      "32/32 [==============================] - 0s 3ms/step - loss: 0.9464 - accuracy: 0.6020 - val_loss: 0.6910 - val_accuracy: 0.8473\n",
      "Epoch 10/1000\n",
      "32/32 [==============================] - ETA: 0s - loss: 0.9190 - accuracy: 0.6220\n",
      "Epoch 10: saving model to model/keypoint_classifier\\keypoint_classifier.hdf5\n",
      "32/32 [==============================] - 0s 3ms/step - loss: 0.9190 - accuracy: 0.6220 - val_loss: 0.6440 - val_accuracy: 0.8451\n",
      "Epoch 11/1000\n",
      " 1/32 [..............................] - ETA: 0s - loss: 0.8594 - accuracy: 0.6328\n",
      "Epoch 11: saving model to model/keypoint_classifier\\keypoint_classifier.hdf5\n",
      "32/32 [==============================] - 0s 3ms/step - loss: 0.8992 - accuracy: 0.6272 - val_loss: 0.5932 - val_accuracy: 0.8627\n",
      "Epoch 12/1000\n",
      " 1/32 [..............................] - ETA: 0s - loss: 0.8964 - accuracy: 0.6328\n",
      "Epoch 12: saving model to model/keypoint_classifier\\keypoint_classifier.hdf5\n",
      "32/32 [==============================] - 0s 3ms/step - loss: 0.8470 - accuracy: 0.6627 - val_loss: 0.5594 - val_accuracy: 0.8752\n",
      "Epoch 13/1000\n",
      "32/32 [==============================] - ETA: 0s - loss: 0.8255 - accuracy: 0.6636\n",
      "Epoch 13: saving model to model/keypoint_classifier\\keypoint_classifier.hdf5\n",
      "32/32 [==============================] - 0s 3ms/step - loss: 0.8255 - accuracy: 0.6636 - val_loss: 0.5234 - val_accuracy: 0.8840\n",
      "Epoch 14/1000\n",
      " 1/32 [..............................] - ETA: 0s - loss: 0.7879 - accuracy: 0.7188\n",
      "Epoch 14: saving model to model/keypoint_classifier\\keypoint_classifier.hdf5\n",
      "32/32 [==============================] - 0s 3ms/step - loss: 0.8140 - accuracy: 0.6825 - val_loss: 0.5050 - val_accuracy: 0.8957\n",
      "Epoch 15/1000\n",
      " 1/32 [..............................] - ETA: 0s - loss: 0.9423 - accuracy: 0.5781\n",
      "Epoch 15: saving model to model/keypoint_classifier\\keypoint_classifier.hdf5\n",
      "32/32 [==============================] - 0s 3ms/step - loss: 0.8007 - accuracy: 0.6793 - val_loss: 0.4826 - val_accuracy: 0.8921\n",
      "Epoch 16/1000\n",
      "31/32 [============================>.] - ETA: 0s - loss: 0.7710 - accuracy: 0.7029\n",
      "Epoch 16: saving model to model/keypoint_classifier\\keypoint_classifier.hdf5\n",
      "32/32 [==============================] - 0s 3ms/step - loss: 0.7683 - accuracy: 0.7038 - val_loss: 0.4595 - val_accuracy: 0.9023\n",
      "Epoch 17/1000\n",
      "15/32 [=============>................] - ETA: 0s - loss: 0.7756 - accuracy: 0.6984\n",
      "Epoch 17: saving model to model/keypoint_classifier\\keypoint_classifier.hdf5\n",
      "32/32 [==============================] - 0s 4ms/step - loss: 0.7611 - accuracy: 0.7011 - val_loss: 0.4404 - val_accuracy: 0.9075\n",
      "Epoch 18/1000\n",
      " 1/32 [..............................] - ETA: 0s - loss: 0.6719 - accuracy: 0.7969\n",
      "Epoch 18: saving model to model/keypoint_classifier\\keypoint_classifier.hdf5\n",
      "32/32 [==============================] - 0s 3ms/step - loss: 0.7589 - accuracy: 0.6994 - val_loss: 0.4367 - val_accuracy: 0.9075\n",
      "Epoch 19/1000\n",
      " 1/32 [..............................] - ETA: 0s - loss: 0.6951 - accuracy: 0.6641\n",
      "Epoch 19: saving model to model/keypoint_classifier\\keypoint_classifier.hdf5\n",
      "32/32 [==============================] - 0s 3ms/step - loss: 0.7332 - accuracy: 0.7087 - val_loss: 0.4197 - val_accuracy: 0.9236\n",
      "Epoch 20/1000\n",
      " 1/32 [..............................] - ETA: 0s - loss: 0.8229 - accuracy: 0.6484\n",
      "Epoch 20: saving model to model/keypoint_classifier\\keypoint_classifier.hdf5\n",
      "32/32 [==============================] - 0s 3ms/step - loss: 0.7306 - accuracy: 0.7148 - val_loss: 0.4121 - val_accuracy: 0.9207\n",
      "Epoch 21/1000\n",
      "32/32 [==============================] - ETA: 0s - loss: 0.7131 - accuracy: 0.7251\n",
      "Epoch 21: saving model to model/keypoint_classifier\\keypoint_classifier.hdf5\n",
      "32/32 [==============================] - 0s 3ms/step - loss: 0.7131 - accuracy: 0.7251 - val_loss: 0.3903 - val_accuracy: 0.9258\n",
      "Epoch 22/1000\n",
      " 1/32 [..............................] - ETA: 0s - loss: 0.7349 - accuracy: 0.7109\n",
      "Epoch 22: saving model to model/keypoint_classifier\\keypoint_classifier.hdf5\n",
      "32/32 [==============================] - 0s 3ms/step - loss: 0.6972 - accuracy: 0.7271 - val_loss: 0.3775 - val_accuracy: 0.9295\n",
      "Epoch 23/1000\n",
      "30/32 [===========================>..] - ETA: 0s - loss: 0.6970 - accuracy: 0.7344\n",
      "Epoch 23: saving model to model/keypoint_classifier\\keypoint_classifier.hdf5\n",
      "32/32 [==============================] - 0s 3ms/step - loss: 0.6946 - accuracy: 0.7368 - val_loss: 0.3754 - val_accuracy: 0.9361\n",
      "Epoch 24/1000\n",
      " 1/32 [..............................] - ETA: 0s - loss: 0.7067 - accuracy: 0.7422\n",
      "Epoch 24: saving model to model/keypoint_classifier\\keypoint_classifier.hdf5\n",
      "32/32 [==============================] - 0s 3ms/step - loss: 0.6986 - accuracy: 0.7373 - val_loss: 0.3691 - val_accuracy: 0.9302\n",
      "Epoch 25/1000\n",
      "31/32 [============================>.] - ETA: 0s - loss: 0.6731 - accuracy: 0.7480\n",
      "Epoch 25: saving model to model/keypoint_classifier\\keypoint_classifier.hdf5\n",
      "32/32 [==============================] - 0s 3ms/step - loss: 0.6754 - accuracy: 0.7474 - val_loss: 0.3537 - val_accuracy: 0.9413\n",
      "Epoch 26/1000\n",
      " 1/32 [..............................] - ETA: 0s - loss: 0.6912 - accuracy: 0.7578\n",
      "Epoch 26: saving model to model/keypoint_classifier\\keypoint_classifier.hdf5\n",
      "32/32 [==============================] - 0s 3ms/step - loss: 0.6737 - accuracy: 0.7461 - val_loss: 0.3524 - val_accuracy: 0.9347\n",
      "Epoch 27/1000\n",
      " 1/32 [..............................] - ETA: 0s - loss: 0.7498 - accuracy: 0.7500\n",
      "Epoch 27: saving model to model/keypoint_classifier\\keypoint_classifier.hdf5\n",
      "32/32 [==============================] - 0s 3ms/step - loss: 0.6635 - accuracy: 0.7483 - val_loss: 0.3409 - val_accuracy: 0.9435\n",
      "Epoch 28/1000\n",
      "18/32 [===============>..............] - ETA: 0s - loss: 0.6650 - accuracy: 0.7513\n",
      "Epoch 28: saving model to model/keypoint_classifier\\keypoint_classifier.hdf5\n",
      "32/32 [==============================] - 0s 4ms/step - loss: 0.6558 - accuracy: 0.7547 - val_loss: 0.3372 - val_accuracy: 0.9398\n",
      "Epoch 29/1000\n",
      " 1/32 [..............................] - ETA: 0s - loss: 0.6678 - accuracy: 0.7500\n",
      "Epoch 29: saving model to model/keypoint_classifier\\keypoint_classifier.hdf5\n",
      "32/32 [==============================] - 0s 3ms/step - loss: 0.6312 - accuracy: 0.7584 - val_loss: 0.3264 - val_accuracy: 0.9427\n",
      "Epoch 30/1000\n",
      " 1/32 [..............................] - ETA: 0s - loss: 0.5888 - accuracy: 0.7891\n",
      "Epoch 30: saving model to model/keypoint_classifier\\keypoint_classifier.hdf5\n",
      "32/32 [==============================] - 0s 3ms/step - loss: 0.6505 - accuracy: 0.7638 - val_loss: 0.3220 - val_accuracy: 0.9427\n",
      "Epoch 31/1000\n",
      " 1/32 [..............................] - ETA: 0s - loss: 0.6426 - accuracy: 0.7734\n",
      "Epoch 31: saving model to model/keypoint_classifier\\keypoint_classifier.hdf5\n",
      "32/32 [==============================] - 0s 3ms/step - loss: 0.6393 - accuracy: 0.7506 - val_loss: 0.3298 - val_accuracy: 0.9332\n",
      "Epoch 32/1000\n",
      "30/32 [===========================>..] - ETA: 0s - loss: 0.6520 - accuracy: 0.7609\n",
      "Epoch 32: saving model to model/keypoint_classifier\\keypoint_classifier.hdf5\n",
      "32/32 [==============================] - 0s 4ms/step - loss: 0.6511 - accuracy: 0.7613 - val_loss: 0.3226 - val_accuracy: 0.9383\n",
      "Epoch 33/1000\n",
      " 1/32 [..............................] - ETA: 0s - loss: 0.7045 - accuracy: 0.7422\n",
      "Epoch 33: saving model to model/keypoint_classifier\\keypoint_classifier.hdf5\n",
      "32/32 [==============================] - 0s 3ms/step - loss: 0.6335 - accuracy: 0.7613 - val_loss: 0.3126 - val_accuracy: 0.9457\n",
      "Epoch 34/1000\n",
      " 1/32 [..............................] - ETA: 0s - loss: 0.5482 - accuracy: 0.8047\n",
      "Epoch 34: saving model to model/keypoint_classifier\\keypoint_classifier.hdf5\n",
      "32/32 [==============================] - 0s 3ms/step - loss: 0.6365 - accuracy: 0.7630 - val_loss: 0.3204 - val_accuracy: 0.9332\n",
      "Epoch 35/1000\n",
      " 1/32 [..............................] - ETA: 0s - loss: 0.6354 - accuracy: 0.7422\n",
      "Epoch 35: saving model to model/keypoint_classifier\\keypoint_classifier.hdf5\n",
      "32/32 [==============================] - 0s 3ms/step - loss: 0.6311 - accuracy: 0.7687 - val_loss: 0.3087 - val_accuracy: 0.9442\n",
      "Epoch 36/1000\n",
      " 1/32 [..............................] - ETA: 0s - loss: 0.6921 - accuracy: 0.7422\n",
      "Epoch 36: saving model to model/keypoint_classifier\\keypoint_classifier.hdf5\n",
      "32/32 [==============================] - 0s 3ms/step - loss: 0.6105 - accuracy: 0.7718 - val_loss: 0.3070 - val_accuracy: 0.9435\n",
      "Epoch 37/1000\n",
      " 1/32 [..............................] - ETA: 0s - loss: 0.5022 - accuracy: 0.8359\n",
      "Epoch 37: saving model to model/keypoint_classifier\\keypoint_classifier.hdf5\n",
      "32/32 [==============================] - 0s 3ms/step - loss: 0.5972 - accuracy: 0.7856 - val_loss: 0.2987 - val_accuracy: 0.9391\n",
      "Epoch 38/1000\n",
      " 1/32 [..............................] - ETA: 0s - loss: 0.6571 - accuracy: 0.7188\n",
      "Epoch 38: saving model to model/keypoint_classifier\\keypoint_classifier.hdf5\n",
      "32/32 [==============================] - 0s 3ms/step - loss: 0.6118 - accuracy: 0.7775 - val_loss: 0.3061 - val_accuracy: 0.9383\n",
      "Epoch 39/1000\n",
      " 1/32 [..............................] - ETA: 0s - loss: 0.4798 - accuracy: 0.8438\n",
      "Epoch 39: saving model to model/keypoint_classifier\\keypoint_classifier.hdf5\n",
      "32/32 [==============================] - 0s 3ms/step - loss: 0.5913 - accuracy: 0.7780 - val_loss: 0.2906 - val_accuracy: 0.9486\n",
      "Epoch 40/1000\n",
      " 1/32 [..............................] - ETA: 0s - loss: 0.5212 - accuracy: 0.7969\n",
      "Epoch 40: saving model to model/keypoint_classifier\\keypoint_classifier.hdf5\n",
      "32/32 [==============================] - 0s 3ms/step - loss: 0.5877 - accuracy: 0.7816 - val_loss: 0.2937 - val_accuracy: 0.9369\n",
      "Epoch 41/1000\n",
      " 1/32 [..............................] - ETA: 0s - loss: 0.5769 - accuracy: 0.8047\n",
      "Epoch 41: saving model to model/keypoint_classifier\\keypoint_classifier.hdf5\n",
      "32/32 [==============================] - 0s 3ms/step - loss: 0.5948 - accuracy: 0.7851 - val_loss: 0.2916 - val_accuracy: 0.9442\n",
      "Epoch 42/1000\n",
      "32/32 [==============================] - ETA: 0s - loss: 0.5756 - accuracy: 0.7902\n",
      "Epoch 42: saving model to model/keypoint_classifier\\keypoint_classifier.hdf5\n",
      "32/32 [==============================] - 0s 3ms/step - loss: 0.5756 - accuracy: 0.7902 - val_loss: 0.2858 - val_accuracy: 0.9435\n",
      "Epoch 43/1000\n",
      " 1/32 [..............................] - ETA: 0s - loss: 0.6463 - accuracy: 0.7734\n",
      "Epoch 43: saving model to model/keypoint_classifier\\keypoint_classifier.hdf5\n",
      "32/32 [==============================] - 0s 3ms/step - loss: 0.5955 - accuracy: 0.7772 - val_loss: 0.2772 - val_accuracy: 0.9427\n",
      "Epoch 44/1000\n",
      " 1/32 [..............................] - ETA: 0s - loss: 0.6211 - accuracy: 0.7578\n",
      "Epoch 44: saving model to model/keypoint_classifier\\keypoint_classifier.hdf5\n",
      "32/32 [==============================] - 0s 3ms/step - loss: 0.5712 - accuracy: 0.7848 - val_loss: 0.2744 - val_accuracy: 0.9486\n",
      "Epoch 45/1000\n",
      "15/32 [=============>................] - ETA: 0s - loss: 0.5688 - accuracy: 0.7943\n",
      "Epoch 45: saving model to model/keypoint_classifier\\keypoint_classifier.hdf5\n",
      "32/32 [==============================] - 0s 4ms/step - loss: 0.5768 - accuracy: 0.7922 - val_loss: 0.2826 - val_accuracy: 0.9435\n",
      "Epoch 46/1000\n",
      " 1/32 [..............................] - ETA: 0s - loss: 0.7288 - accuracy: 0.7578\n",
      "Epoch 46: saving model to model/keypoint_classifier\\keypoint_classifier.hdf5\n",
      "32/32 [==============================] - 0s 3ms/step - loss: 0.5665 - accuracy: 0.7902 - val_loss: 0.2773 - val_accuracy: 0.9457\n",
      "Epoch 47/1000\n",
      " 1/32 [..............................] - ETA: 0s - loss: 0.5921 - accuracy: 0.7734\n",
      "Epoch 47: saving model to model/keypoint_classifier\\keypoint_classifier.hdf5\n",
      "32/32 [==============================] - 0s 3ms/step - loss: 0.5840 - accuracy: 0.7846 - val_loss: 0.2715 - val_accuracy: 0.9471\n",
      "Epoch 48/1000\n",
      " 1/32 [..............................] - ETA: 0s - loss: 0.5629 - accuracy: 0.7891\n",
      "Epoch 48: saving model to model/keypoint_classifier\\keypoint_classifier.hdf5\n",
      "32/32 [==============================] - 0s 3ms/step - loss: 0.5768 - accuracy: 0.7873 - val_loss: 0.2756 - val_accuracy: 0.9479\n",
      "Epoch 49/1000\n",
      " 1/32 [..............................] - ETA: 0s - loss: 0.6290 - accuracy: 0.7734\n",
      "Epoch 49: saving model to model/keypoint_classifier\\keypoint_classifier.hdf5\n",
      "32/32 [==============================] - 0s 3ms/step - loss: 0.5647 - accuracy: 0.7956 - val_loss: 0.2733 - val_accuracy: 0.9479\n",
      "Epoch 50/1000\n",
      " 1/32 [..............................] - ETA: 0s - loss: 0.4507 - accuracy: 0.8281\n",
      "Epoch 50: saving model to model/keypoint_classifier\\keypoint_classifier.hdf5\n",
      "32/32 [==============================] - 0s 3ms/step - loss: 0.5553 - accuracy: 0.7936 - val_loss: 0.2655 - val_accuracy: 0.9493\n",
      "Epoch 51/1000\n",
      " 1/32 [..............................] - ETA: 0s - loss: 0.5723 - accuracy: 0.7578\n",
      "Epoch 51: saving model to model/keypoint_classifier\\keypoint_classifier.hdf5\n",
      "32/32 [==============================] - 0s 3ms/step - loss: 0.5674 - accuracy: 0.7914 - val_loss: 0.2736 - val_accuracy: 0.9479\n",
      "Epoch 52/1000\n",
      " 1/32 [..............................] - ETA: 0s - loss: 0.5980 - accuracy: 0.7422\n",
      "Epoch 52: saving model to model/keypoint_classifier\\keypoint_classifier.hdf5\n",
      "32/32 [==============================] - 0s 3ms/step - loss: 0.5654 - accuracy: 0.7949 - val_loss: 0.2599 - val_accuracy: 0.9486\n",
      "Epoch 53/1000\n",
      "32/32 [==============================] - ETA: 0s - loss: 0.5595 - accuracy: 0.7995\n",
      "Epoch 53: saving model to model/keypoint_classifier\\keypoint_classifier.hdf5\n",
      "32/32 [==============================] - 0s 3ms/step - loss: 0.5595 - accuracy: 0.7995 - val_loss: 0.2614 - val_accuracy: 0.9493\n",
      "Epoch 54/1000\n",
      "32/32 [==============================] - ETA: 0s - loss: 0.5561 - accuracy: 0.7998\n",
      "Epoch 54: saving model to model/keypoint_classifier\\keypoint_classifier.hdf5\n",
      "32/32 [==============================] - 0s 3ms/step - loss: 0.5561 - accuracy: 0.7998 - val_loss: 0.2634 - val_accuracy: 0.9479\n",
      "Epoch 55/1000\n",
      " 1/32 [..............................] - ETA: 0s - loss: 0.5494 - accuracy: 0.7578\n",
      "Epoch 55: saving model to model/keypoint_classifier\\keypoint_classifier.hdf5\n",
      "32/32 [==============================] - 0s 3ms/step - loss: 0.5518 - accuracy: 0.8049 - val_loss: 0.2723 - val_accuracy: 0.9486\n",
      "Epoch 56/1000\n",
      "32/32 [==============================] - ETA: 0s - loss: 0.5808 - accuracy: 0.7875\n",
      "Epoch 56: saving model to model/keypoint_classifier\\keypoint_classifier.hdf5\n",
      "32/32 [==============================] - 0s 4ms/step - loss: 0.5808 - accuracy: 0.7875 - val_loss: 0.2602 - val_accuracy: 0.9530\n",
      "Epoch 57/1000\n",
      "32/32 [==============================] - ETA: 0s - loss: 0.5475 - accuracy: 0.8034\n",
      "Epoch 57: saving model to model/keypoint_classifier\\keypoint_classifier.hdf5\n",
      "32/32 [==============================] - 0s 3ms/step - loss: 0.5475 - accuracy: 0.8034 - val_loss: 0.2522 - val_accuracy: 0.9493\n",
      "Epoch 58/1000\n",
      "25/32 [======================>.......] - ETA: 0s - loss: 0.5467 - accuracy: 0.7969\n",
      "Epoch 58: saving model to model/keypoint_classifier\\keypoint_classifier.hdf5\n",
      "32/32 [==============================] - 0s 4ms/step - loss: 0.5491 - accuracy: 0.7941 - val_loss: 0.2584 - val_accuracy: 0.9457\n",
      "Epoch 59/1000\n",
      " 1/32 [..............................] - ETA: 0s - loss: 0.5828 - accuracy: 0.7734\n",
      "Epoch 59: saving model to model/keypoint_classifier\\keypoint_classifier.hdf5\n",
      "32/32 [==============================] - 0s 3ms/step - loss: 0.5440 - accuracy: 0.7944 - val_loss: 0.2491 - val_accuracy: 0.9523\n",
      "Epoch 60/1000\n",
      " 1/32 [..............................] - ETA: 0s - loss: 0.5154 - accuracy: 0.7969\n",
      "Epoch 60: saving model to model/keypoint_classifier\\keypoint_classifier.hdf5\n",
      "32/32 [==============================] - 0s 3ms/step - loss: 0.5428 - accuracy: 0.8005 - val_loss: 0.2520 - val_accuracy: 0.9479\n",
      "Epoch 61/1000\n",
      " 1/32 [..............................] - ETA: 0s - loss: 0.4876 - accuracy: 0.8125\n",
      "Epoch 61: saving model to model/keypoint_classifier\\keypoint_classifier.hdf5\n",
      "32/32 [==============================] - 0s 3ms/step - loss: 0.5582 - accuracy: 0.7900 - val_loss: 0.2582 - val_accuracy: 0.9442\n",
      "Epoch 62/1000\n",
      " 1/32 [..............................] - ETA: 0s - loss: 0.4725 - accuracy: 0.8203\n",
      "Epoch 62: saving model to model/keypoint_classifier\\keypoint_classifier.hdf5\n",
      "32/32 [==============================] - 0s 3ms/step - loss: 0.5316 - accuracy: 0.8027 - val_loss: 0.2485 - val_accuracy: 0.9493\n",
      "Epoch 63/1000\n",
      "31/32 [============================>.] - ETA: 0s - loss: 0.5421 - accuracy: 0.8059\n",
      "Epoch 63: saving model to model/keypoint_classifier\\keypoint_classifier.hdf5\n",
      "32/32 [==============================] - 0s 3ms/step - loss: 0.5403 - accuracy: 0.8056 - val_loss: 0.2571 - val_accuracy: 0.9442\n",
      "Epoch 64/1000\n",
      " 1/32 [..............................] - ETA: 0s - loss: 0.5871 - accuracy: 0.7812\n",
      "Epoch 64: saving model to model/keypoint_classifier\\keypoint_classifier.hdf5\n",
      "32/32 [==============================] - 0s 3ms/step - loss: 0.5326 - accuracy: 0.7995 - val_loss: 0.2491 - val_accuracy: 0.9479\n",
      "Epoch 65/1000\n",
      " 1/32 [..............................] - ETA: 0s - loss: 0.5262 - accuracy: 0.8594\n",
      "Epoch 65: saving model to model/keypoint_classifier\\keypoint_classifier.hdf5\n",
      "32/32 [==============================] - 0s 3ms/step - loss: 0.5451 - accuracy: 0.8059 - val_loss: 0.2535 - val_accuracy: 0.9508\n",
      "Epoch 66/1000\n",
      " 1/32 [..............................] - ETA: 0s - loss: 0.4725 - accuracy: 0.8047\n",
      "Epoch 66: saving model to model/keypoint_classifier\\keypoint_classifier.hdf5\n",
      "32/32 [==============================] - 0s 3ms/step - loss: 0.5500 - accuracy: 0.7988 - val_loss: 0.2459 - val_accuracy: 0.9508\n",
      "Epoch 67/1000\n",
      " 1/32 [..............................] - ETA: 0s - loss: 0.5480 - accuracy: 0.7734\n",
      "Epoch 67: saving model to model/keypoint_classifier\\keypoint_classifier.hdf5\n",
      "32/32 [==============================] - 0s 3ms/step - loss: 0.5450 - accuracy: 0.8069 - val_loss: 0.2564 - val_accuracy: 0.9449\n",
      "Epoch 68/1000\n",
      "20/32 [=================>............] - ETA: 0s - loss: 0.5094 - accuracy: 0.8152\n",
      "Epoch 68: saving model to model/keypoint_classifier\\keypoint_classifier.hdf5\n",
      "32/32 [==============================] - 0s 4ms/step - loss: 0.5261 - accuracy: 0.8100 - val_loss: 0.2412 - val_accuracy: 0.9501\n",
      "Epoch 69/1000\n",
      " 1/32 [..............................] - ETA: 0s - loss: 0.5809 - accuracy: 0.7734\n",
      "Epoch 69: saving model to model/keypoint_classifier\\keypoint_classifier.hdf5\n",
      "32/32 [==============================] - 0s 3ms/step - loss: 0.5474 - accuracy: 0.7936 - val_loss: 0.2540 - val_accuracy: 0.9457\n",
      "Epoch 70/1000\n",
      " 1/32 [..............................] - ETA: 0s - loss: 0.4257 - accuracy: 0.8438\n",
      "Epoch 70: saving model to model/keypoint_classifier\\keypoint_classifier.hdf5\n",
      "32/32 [==============================] - 0s 3ms/step - loss: 0.5135 - accuracy: 0.8098 - val_loss: 0.2457 - val_accuracy: 0.9501\n",
      "Epoch 71/1000\n",
      " 1/32 [..............................] - ETA: 0s - loss: 0.4845 - accuracy: 0.8359\n",
      "Epoch 71: saving model to model/keypoint_classifier\\keypoint_classifier.hdf5\n",
      "32/32 [==============================] - 0s 3ms/step - loss: 0.5302 - accuracy: 0.8091 - val_loss: 0.2490 - val_accuracy: 0.9427\n",
      "Epoch 72/1000\n",
      "30/32 [===========================>..] - ETA: 0s - loss: 0.5168 - accuracy: 0.8174\n",
      "Epoch 72: saving model to model/keypoint_classifier\\keypoint_classifier.hdf5\n",
      "32/32 [==============================] - 0s 3ms/step - loss: 0.5179 - accuracy: 0.8162 - val_loss: 0.2486 - val_accuracy: 0.9457\n",
      "Epoch 73/1000\n",
      " 1/32 [..............................] - ETA: 0s - loss: 0.4798 - accuracy: 0.8203\n",
      "Epoch 73: saving model to model/keypoint_classifier\\keypoint_classifier.hdf5\n",
      "32/32 [==============================] - 0s 3ms/step - loss: 0.5262 - accuracy: 0.8108 - val_loss: 0.2433 - val_accuracy: 0.9464\n",
      "Epoch 74/1000\n",
      "28/32 [=========================>....] - ETA: 0s - loss: 0.5134 - accuracy: 0.8117\n",
      "Epoch 74: saving model to model/keypoint_classifier\\keypoint_classifier.hdf5\n",
      "32/32 [==============================] - 0s 3ms/step - loss: 0.5131 - accuracy: 0.8127 - val_loss: 0.2434 - val_accuracy: 0.9464\n",
      "Epoch 75/1000\n",
      " 1/32 [..............................] - ETA: 0s - loss: 0.5311 - accuracy: 0.7969\n",
      "Epoch 75: saving model to model/keypoint_classifier\\keypoint_classifier.hdf5\n",
      "32/32 [==============================] - 0s 3ms/step - loss: 0.5132 - accuracy: 0.8169 - val_loss: 0.2439 - val_accuracy: 0.9464\n",
      "Epoch 76/1000\n",
      " 1/32 [..............................] - ETA: 0s - loss: 0.4597 - accuracy: 0.8516\n",
      "Epoch 76: saving model to model/keypoint_classifier\\keypoint_classifier.hdf5\n",
      "32/32 [==============================] - 0s 3ms/step - loss: 0.5163 - accuracy: 0.8164 - val_loss: 0.2389 - val_accuracy: 0.9508\n",
      "Epoch 77/1000\n",
      "15/32 [=============>................] - ETA: 0s - loss: 0.5472 - accuracy: 0.7953\n",
      "Epoch 77: saving model to model/keypoint_classifier\\keypoint_classifier.hdf5\n",
      "32/32 [==============================] - 0s 4ms/step - loss: 0.5365 - accuracy: 0.8042 - val_loss: 0.2490 - val_accuracy: 0.9449\n",
      "Epoch 78/1000\n",
      " 1/32 [..............................] - ETA: 0s - loss: 0.6682 - accuracy: 0.7500\n",
      "Epoch 78: saving model to model/keypoint_classifier\\keypoint_classifier.hdf5\n",
      "32/32 [==============================] - 0s 3ms/step - loss: 0.5340 - accuracy: 0.8088 - val_loss: 0.2332 - val_accuracy: 0.9552\n",
      "Epoch 79/1000\n",
      " 1/32 [..............................] - ETA: 0s - loss: 0.5712 - accuracy: 0.7812\n",
      "Epoch 79: saving model to model/keypoint_classifier\\keypoint_classifier.hdf5\n",
      "32/32 [==============================] - 0s 3ms/step - loss: 0.5111 - accuracy: 0.8166 - val_loss: 0.2443 - val_accuracy: 0.9493\n",
      "Epoch 80/1000\n",
      " 1/32 [..............................] - ETA: 0s - loss: 0.3993 - accuracy: 0.8594\n",
      "Epoch 80: saving model to model/keypoint_classifier\\keypoint_classifier.hdf5\n",
      "32/32 [==============================] - 0s 3ms/step - loss: 0.5166 - accuracy: 0.8164 - val_loss: 0.2311 - val_accuracy: 0.9552\n",
      "Epoch 81/1000\n",
      " 1/32 [..............................] - ETA: 0s - loss: 0.6070 - accuracy: 0.7656\n",
      "Epoch 81: saving model to model/keypoint_classifier\\keypoint_classifier.hdf5\n",
      "32/32 [==============================] - 0s 3ms/step - loss: 0.5216 - accuracy: 0.8078 - val_loss: 0.2385 - val_accuracy: 0.9552\n",
      "Epoch 82/1000\n",
      " 1/32 [..............................] - ETA: 0s - loss: 0.6416 - accuracy: 0.7500\n",
      "Epoch 82: saving model to model/keypoint_classifier\\keypoint_classifier.hdf5\n",
      "32/32 [==============================] - 0s 3ms/step - loss: 0.4998 - accuracy: 0.8201 - val_loss: 0.2390 - val_accuracy: 0.9523\n",
      "Epoch 83/1000\n",
      "31/32 [============================>.] - ETA: 0s - loss: 0.5008 - accuracy: 0.8165\n",
      "Epoch 83: saving model to model/keypoint_classifier\\keypoint_classifier.hdf5\n",
      "32/32 [==============================] - 0s 3ms/step - loss: 0.5001 - accuracy: 0.8176 - val_loss: 0.2349 - val_accuracy: 0.9501\n",
      "Epoch 84/1000\n",
      "30/32 [===========================>..] - ETA: 0s - loss: 0.4988 - accuracy: 0.8208\n",
      "Epoch 84: saving model to model/keypoint_classifier\\keypoint_classifier.hdf5\n",
      "32/32 [==============================] - 0s 3ms/step - loss: 0.4973 - accuracy: 0.8211 - val_loss: 0.2421 - val_accuracy: 0.9471\n",
      "Epoch 85/1000\n",
      "24/32 [=====================>........] - ETA: 0s - loss: 0.4931 - accuracy: 0.8304\n",
      "Epoch 85: saving model to model/keypoint_classifier\\keypoint_classifier.hdf5\n",
      "32/32 [==============================] - 0s 4ms/step - loss: 0.5036 - accuracy: 0.8223 - val_loss: 0.2398 - val_accuracy: 0.9479\n",
      "Epoch 86/1000\n",
      " 1/32 [..............................] - ETA: 0s - loss: 0.4556 - accuracy: 0.8125\n",
      "Epoch 86: saving model to model/keypoint_classifier\\keypoint_classifier.hdf5\n",
      "32/32 [==============================] - 0s 3ms/step - loss: 0.5146 - accuracy: 0.8191 - val_loss: 0.2350 - val_accuracy: 0.9515\n",
      "Epoch 87/1000\n",
      " 1/32 [..............................] - ETA: 0s - loss: 0.5391 - accuracy: 0.7891\n",
      "Epoch 87: saving model to model/keypoint_classifier\\keypoint_classifier.hdf5\n",
      "32/32 [==============================] - 0s 3ms/step - loss: 0.4885 - accuracy: 0.8179 - val_loss: 0.2272 - val_accuracy: 0.9523\n",
      "Epoch 88/1000\n",
      " 1/32 [..............................] - ETA: 0s - loss: 0.4969 - accuracy: 0.8438\n",
      "Epoch 88: saving model to model/keypoint_classifier\\keypoint_classifier.hdf5\n",
      "32/32 [==============================] - 0s 3ms/step - loss: 0.5159 - accuracy: 0.8127 - val_loss: 0.2333 - val_accuracy: 0.9508\n",
      "Epoch 89/1000\n",
      "32/32 [==============================] - ETA: 0s - loss: 0.4928 - accuracy: 0.8257\n",
      "Epoch 89: saving model to model/keypoint_classifier\\keypoint_classifier.hdf5\n",
      "32/32 [==============================] - 0s 3ms/step - loss: 0.4928 - accuracy: 0.8257 - val_loss: 0.2418 - val_accuracy: 0.9493\n",
      "Epoch 90/1000\n",
      " 1/32 [..............................] - ETA: 0s - loss: 0.4530 - accuracy: 0.8516\n",
      "Epoch 90: saving model to model/keypoint_classifier\\keypoint_classifier.hdf5\n",
      "32/32 [==============================] - 0s 3ms/step - loss: 0.5123 - accuracy: 0.8147 - val_loss: 0.2358 - val_accuracy: 0.9530\n",
      "Epoch 91/1000\n",
      "32/32 [==============================] - ETA: 0s - loss: 0.4863 - accuracy: 0.8264\n",
      "Epoch 91: saving model to model/keypoint_classifier\\keypoint_classifier.hdf5\n",
      "32/32 [==============================] - 0s 3ms/step - loss: 0.4863 - accuracy: 0.8264 - val_loss: 0.2272 - val_accuracy: 0.9537\n",
      "Epoch 92/1000\n",
      "24/32 [=====================>........] - ETA: 0s - loss: 0.4954 - accuracy: 0.8125\n",
      "Epoch 92: saving model to model/keypoint_classifier\\keypoint_classifier.hdf5\n",
      "32/32 [==============================] - 0s 4ms/step - loss: 0.4946 - accuracy: 0.8144 - val_loss: 0.2343 - val_accuracy: 0.9501\n",
      "Epoch 93/1000\n",
      " 1/32 [..............................] - ETA: 0s - loss: 0.4186 - accuracy: 0.8438\n",
      "Epoch 93: saving model to model/keypoint_classifier\\keypoint_classifier.hdf5\n",
      "32/32 [==============================] - 0s 3ms/step - loss: 0.4879 - accuracy: 0.8213 - val_loss: 0.2292 - val_accuracy: 0.9523\n",
      "Epoch 94/1000\n",
      "31/32 [============================>.] - ETA: 0s - loss: 0.5070 - accuracy: 0.8218\n",
      "Epoch 94: saving model to model/keypoint_classifier\\keypoint_classifier.hdf5\n",
      "32/32 [==============================] - 0s 4ms/step - loss: 0.5061 - accuracy: 0.8218 - val_loss: 0.2240 - val_accuracy: 0.9523\n",
      "Epoch 95/1000\n",
      " 1/32 [..............................] - ETA: 0s - loss: 0.6053 - accuracy: 0.8047\n",
      "Epoch 95: saving model to model/keypoint_classifier\\keypoint_classifier.hdf5\n",
      "32/32 [==============================] - 0s 3ms/step - loss: 0.4961 - accuracy: 0.8235 - val_loss: 0.2408 - val_accuracy: 0.9523\n",
      "Epoch 96/1000\n",
      " 1/32 [..............................] - ETA: 0s - loss: 0.4555 - accuracy: 0.8281\n",
      "Epoch 96: saving model to model/keypoint_classifier\\keypoint_classifier.hdf5\n",
      "32/32 [==============================] - 0s 3ms/step - loss: 0.4769 - accuracy: 0.8301 - val_loss: 0.2319 - val_accuracy: 0.9501\n",
      "Epoch 97/1000\n",
      "30/32 [===========================>..] - ETA: 0s - loss: 0.4940 - accuracy: 0.8211\n",
      "Epoch 97: saving model to model/keypoint_classifier\\keypoint_classifier.hdf5\n",
      "32/32 [==============================] - 0s 3ms/step - loss: 0.4970 - accuracy: 0.8211 - val_loss: 0.2367 - val_accuracy: 0.9523\n",
      "Epoch 98/1000\n",
      "25/32 [======================>.......] - ETA: 0s - loss: 0.4728 - accuracy: 0.8356\n",
      "Epoch 98: saving model to model/keypoint_classifier\\keypoint_classifier.hdf5\n",
      "32/32 [==============================] - 0s 4ms/step - loss: 0.4832 - accuracy: 0.8291 - val_loss: 0.2293 - val_accuracy: 0.9537\n",
      "Epoch 99/1000\n",
      "32/32 [==============================] - ETA: 0s - loss: 0.4844 - accuracy: 0.8213\n",
      "Epoch 99: saving model to model/keypoint_classifier\\keypoint_classifier.hdf5\n",
      "32/32 [==============================] - 0s 3ms/step - loss: 0.4844 - accuracy: 0.8213 - val_loss: 0.2354 - val_accuracy: 0.9508\n",
      "Epoch 100/1000\n",
      " 1/32 [..............................] - ETA: 0s - loss: 0.5568 - accuracy: 0.7969\n",
      "Epoch 100: saving model to model/keypoint_classifier\\keypoint_classifier.hdf5\n",
      "32/32 [==============================] - 0s 3ms/step - loss: 0.5033 - accuracy: 0.8211 - val_loss: 0.2239 - val_accuracy: 0.9559\n",
      "Epoch 101/1000\n",
      "28/32 [=========================>....] - ETA: 0s - loss: 0.4670 - accuracy: 0.8298\n",
      "Epoch 101: saving model to model/keypoint_classifier\\keypoint_classifier.hdf5\n",
      "32/32 [==============================] - 0s 4ms/step - loss: 0.4729 - accuracy: 0.8257 - val_loss: 0.2315 - val_accuracy: 0.9530\n",
      "Epoch 102/1000\n",
      "28/32 [=========================>....] - ETA: 0s - loss: 0.4965 - accuracy: 0.8231\n",
      "Epoch 102: saving model to model/keypoint_classifier\\keypoint_classifier.hdf5\n",
      "32/32 [==============================] - 0s 4ms/step - loss: 0.4984 - accuracy: 0.8220 - val_loss: 0.2313 - val_accuracy: 0.9508\n",
      "Epoch 103/1000\n",
      "26/32 [=======================>......] - ETA: 0s - loss: 0.5072 - accuracy: 0.8203\n",
      "Epoch 103: saving model to model/keypoint_classifier\\keypoint_classifier.hdf5\n",
      "32/32 [==============================] - 0s 4ms/step - loss: 0.5052 - accuracy: 0.8208 - val_loss: 0.2311 - val_accuracy: 0.9537\n",
      "Epoch 104/1000\n",
      "15/32 [=============>................] - ETA: 0s - loss: 0.4763 - accuracy: 0.8313\n",
      "Epoch 104: saving model to model/keypoint_classifier\\keypoint_classifier.hdf5\n",
      "32/32 [==============================] - 0s 4ms/step - loss: 0.4876 - accuracy: 0.8250 - val_loss: 0.2305 - val_accuracy: 0.9523\n",
      "Epoch 105/1000\n",
      "32/32 [==============================] - ETA: 0s - loss: 0.4866 - accuracy: 0.8203\n",
      "Epoch 105: saving model to model/keypoint_classifier\\keypoint_classifier.hdf5\n",
      "32/32 [==============================] - 0s 3ms/step - loss: 0.4866 - accuracy: 0.8203 - val_loss: 0.2390 - val_accuracy: 0.9479\n",
      "Epoch 106/1000\n",
      "31/32 [============================>.] - ETA: 0s - loss: 0.4853 - accuracy: 0.8322\n",
      "Epoch 106: saving model to model/keypoint_classifier\\keypoint_classifier.hdf5\n",
      "32/32 [==============================] - 0s 3ms/step - loss: 0.4856 - accuracy: 0.8318 - val_loss: 0.2319 - val_accuracy: 0.9493\n",
      "Epoch 107/1000\n",
      "31/32 [============================>.] - ETA: 0s - loss: 0.5013 - accuracy: 0.8168\n",
      "Epoch 107: saving model to model/keypoint_classifier\\keypoint_classifier.hdf5\n",
      "32/32 [==============================] - 0s 4ms/step - loss: 0.5006 - accuracy: 0.8169 - val_loss: 0.2214 - val_accuracy: 0.9537\n",
      "Epoch 108/1000\n",
      "25/32 [======================>.......] - ETA: 0s - loss: 0.4713 - accuracy: 0.8356\n",
      "Epoch 108: saving model to model/keypoint_classifier\\keypoint_classifier.hdf5\n",
      "32/32 [==============================] - 0s 4ms/step - loss: 0.4816 - accuracy: 0.8321 - val_loss: 0.2293 - val_accuracy: 0.9559\n",
      "Epoch 109/1000\n",
      "28/32 [=========================>....] - ETA: 0s - loss: 0.4804 - accuracy: 0.8290\n",
      "Epoch 109: saving model to model/keypoint_classifier\\keypoint_classifier.hdf5\n",
      "32/32 [==============================] - 0s 4ms/step - loss: 0.4800 - accuracy: 0.8274 - val_loss: 0.2275 - val_accuracy: 0.9567\n",
      "Epoch 110/1000\n",
      "11/32 [=========>....................] - ETA: 0s - loss: 0.4861 - accuracy: 0.8366\n",
      "Epoch 110: saving model to model/keypoint_classifier\\keypoint_classifier.hdf5\n",
      "32/32 [==============================] - 0s 5ms/step - loss: 0.4722 - accuracy: 0.8345 - val_loss: 0.2256 - val_accuracy: 0.9552\n",
      "Epoch 111/1000\n",
      "30/32 [===========================>..] - ETA: 0s - loss: 0.4650 - accuracy: 0.8320\n",
      "Epoch 111: saving model to model/keypoint_classifier\\keypoint_classifier.hdf5\n",
      "32/32 [==============================] - 0s 4ms/step - loss: 0.4793 - accuracy: 0.8308 - val_loss: 0.2234 - val_accuracy: 0.9559\n",
      "Epoch 112/1000\n",
      "26/32 [=======================>......] - ETA: 0s - loss: 0.5015 - accuracy: 0.8149\n",
      "Epoch 112: saving model to model/keypoint_classifier\\keypoint_classifier.hdf5\n",
      "32/32 [==============================] - 0s 4ms/step - loss: 0.5006 - accuracy: 0.8149 - val_loss: 0.2339 - val_accuracy: 0.9537\n",
      "Epoch 113/1000\n",
      "32/32 [==============================] - ETA: 0s - loss: 0.4825 - accuracy: 0.8267\n",
      "Epoch 113: saving model to model/keypoint_classifier\\keypoint_classifier.hdf5\n",
      "32/32 [==============================] - 0s 3ms/step - loss: 0.4825 - accuracy: 0.8267 - val_loss: 0.2332 - val_accuracy: 0.9545\n",
      "Epoch 114/1000\n",
      " 1/32 [..............................] - ETA: 0s - loss: 0.3943 - accuracy: 0.8828\n",
      "Epoch 114: saving model to model/keypoint_classifier\\keypoint_classifier.hdf5\n",
      "32/32 [==============================] - 0s 3ms/step - loss: 0.4855 - accuracy: 0.8269 - val_loss: 0.2299 - val_accuracy: 0.9530\n",
      "Epoch 115/1000\n",
      "32/32 [==============================] - ETA: 0s - loss: 0.4993 - accuracy: 0.8218\n",
      "Epoch 115: saving model to model/keypoint_classifier\\keypoint_classifier.hdf5\n",
      "32/32 [==============================] - 0s 4ms/step - loss: 0.4993 - accuracy: 0.8218 - val_loss: 0.2371 - val_accuracy: 0.9515\n",
      "Epoch 116/1000\n",
      "28/32 [=========================>....] - ETA: 0s - loss: 0.4778 - accuracy: 0.8331\n",
      "Epoch 116: saving model to model/keypoint_classifier\\keypoint_classifier.hdf5\n",
      "32/32 [==============================] - 0s 4ms/step - loss: 0.4804 - accuracy: 0.8321 - val_loss: 0.2266 - val_accuracy: 0.9537\n",
      "Epoch 117/1000\n",
      " 1/32 [..............................] - ETA: 0s - loss: 0.4050 - accuracy: 0.8750\n",
      "Epoch 117: saving model to model/keypoint_classifier\\keypoint_classifier.hdf5\n",
      "32/32 [==============================] - 0s 3ms/step - loss: 0.4805 - accuracy: 0.8294 - val_loss: 0.2308 - val_accuracy: 0.9530\n",
      "Epoch 118/1000\n",
      " 1/32 [..............................] - ETA: 0s - loss: 0.5745 - accuracy: 0.8047\n",
      "Epoch 118: saving model to model/keypoint_classifier\\keypoint_classifier.hdf5\n",
      "32/32 [==============================] - 0s 3ms/step - loss: 0.4762 - accuracy: 0.8272 - val_loss: 0.2271 - val_accuracy: 0.9567\n",
      "Epoch 119/1000\n",
      " 1/32 [..............................] - ETA: 0s - loss: 0.4385 - accuracy: 0.8516\n",
      "Epoch 119: saving model to model/keypoint_classifier\\keypoint_classifier.hdf5\n",
      "32/32 [==============================] - 0s 3ms/step - loss: 0.5150 - accuracy: 0.8135 - val_loss: 0.2290 - val_accuracy: 0.9567\n",
      "Epoch 120/1000\n",
      "30/32 [===========================>..] - ETA: 0s - loss: 0.4815 - accuracy: 0.8349\n",
      "Epoch 120: saving model to model/keypoint_classifier\\keypoint_classifier.hdf5\n",
      "32/32 [==============================] - 0s 4ms/step - loss: 0.4793 - accuracy: 0.8340 - val_loss: 0.2157 - val_accuracy: 0.9545\n",
      "Epoch 121/1000\n",
      "30/32 [===========================>..] - ETA: 0s - loss: 0.4850 - accuracy: 0.8224\n",
      "Epoch 121: saving model to model/keypoint_classifier\\keypoint_classifier.hdf5\n",
      "32/32 [==============================] - 0s 3ms/step - loss: 0.4834 - accuracy: 0.8228 - val_loss: 0.2313 - val_accuracy: 0.9559\n",
      "Epoch 122/1000\n",
      "32/32 [==============================] - ETA: 0s - loss: 0.4590 - accuracy: 0.8345\n",
      "Epoch 122: saving model to model/keypoint_classifier\\keypoint_classifier.hdf5\n",
      "32/32 [==============================] - 0s 3ms/step - loss: 0.4590 - accuracy: 0.8345 - val_loss: 0.2211 - val_accuracy: 0.9567\n",
      "Epoch 123/1000\n",
      " 1/32 [..............................] - ETA: 0s - loss: 0.5971 - accuracy: 0.8125\n",
      "Epoch 123: saving model to model/keypoint_classifier\\keypoint_classifier.hdf5\n",
      "32/32 [==============================] - 0s 3ms/step - loss: 0.4899 - accuracy: 0.8228 - val_loss: 0.2214 - val_accuracy: 0.9537\n",
      "Epoch 124/1000\n",
      " 1/32 [..............................] - ETA: 0s - loss: 0.5568 - accuracy: 0.7969\n",
      "Epoch 124: saving model to model/keypoint_classifier\\keypoint_classifier.hdf5\n",
      "32/32 [==============================] - 0s 3ms/step - loss: 0.4688 - accuracy: 0.8296 - val_loss: 0.2249 - val_accuracy: 0.9530\n",
      "Epoch 125/1000\n",
      " 1/32 [..............................] - ETA: 0s - loss: 0.4797 - accuracy: 0.7891\n",
      "Epoch 125: saving model to model/keypoint_classifier\\keypoint_classifier.hdf5\n",
      "32/32 [==============================] - 0s 3ms/step - loss: 0.4815 - accuracy: 0.8299 - val_loss: 0.2345 - val_accuracy: 0.9574\n",
      "Epoch 126/1000\n",
      "20/32 [=================>............] - ETA: 0s - loss: 0.4618 - accuracy: 0.8418\n",
      "Epoch 126: saving model to model/keypoint_classifier\\keypoint_classifier.hdf5\n",
      "32/32 [==============================] - 0s 4ms/step - loss: 0.4620 - accuracy: 0.8421 - val_loss: 0.2189 - val_accuracy: 0.9545\n",
      "Epoch 127/1000\n",
      "30/32 [===========================>..] - ETA: 0s - loss: 0.4692 - accuracy: 0.8260\n",
      "Epoch 127: saving model to model/keypoint_classifier\\keypoint_classifier.hdf5\n",
      "32/32 [==============================] - 0s 4ms/step - loss: 0.4718 - accuracy: 0.8235 - val_loss: 0.2231 - val_accuracy: 0.9530\n",
      "Epoch 128/1000\n",
      " 1/32 [..............................] - ETA: 0s - loss: 0.4090 - accuracy: 0.8281\n",
      "Epoch 128: saving model to model/keypoint_classifier\\keypoint_classifier.hdf5\n",
      "32/32 [==============================] - 0s 3ms/step - loss: 0.4857 - accuracy: 0.8255 - val_loss: 0.2235 - val_accuracy: 0.9559\n",
      "Epoch 129/1000\n",
      "31/32 [============================>.] - ETA: 0s - loss: 0.4886 - accuracy: 0.8211\n",
      "Epoch 129: saving model to model/keypoint_classifier\\keypoint_classifier.hdf5\n",
      "32/32 [==============================] - 0s 3ms/step - loss: 0.4867 - accuracy: 0.8223 - val_loss: 0.2301 - val_accuracy: 0.9545\n",
      "Epoch 130/1000\n",
      "28/32 [=========================>....] - ETA: 0s - loss: 0.4695 - accuracy: 0.8368\n",
      "Epoch 130: saving model to model/keypoint_classifier\\keypoint_classifier.hdf5\n",
      "32/32 [==============================] - 0s 4ms/step - loss: 0.4716 - accuracy: 0.8350 - val_loss: 0.2165 - val_accuracy: 0.9596\n",
      "Epoch 131/1000\n",
      "17/32 [==============>...............] - ETA: 0s - loss: 0.4766 - accuracy: 0.8313\n",
      "Epoch 131: saving model to model/keypoint_classifier\\keypoint_classifier.hdf5\n",
      "32/32 [==============================] - 0s 4ms/step - loss: 0.4676 - accuracy: 0.8360 - val_loss: 0.2274 - val_accuracy: 0.9567\n",
      "Epoch 132/1000\n",
      "31/32 [============================>.] - ETA: 0s - loss: 0.4715 - accuracy: 0.8334\n",
      "Epoch 132: saving model to model/keypoint_classifier\\keypoint_classifier.hdf5\n",
      "32/32 [==============================] - 0s 3ms/step - loss: 0.4707 - accuracy: 0.8333 - val_loss: 0.2338 - val_accuracy: 0.9530\n",
      "Epoch 133/1000\n",
      "31/32 [============================>.] - ETA: 0s - loss: 0.4644 - accuracy: 0.8362\n",
      "Epoch 133: saving model to model/keypoint_classifier\\keypoint_classifier.hdf5\n",
      "32/32 [==============================] - 0s 3ms/step - loss: 0.4666 - accuracy: 0.8338 - val_loss: 0.2231 - val_accuracy: 0.9523\n",
      "Epoch 134/1000\n",
      " 1/32 [..............................] - ETA: 0s - loss: 0.4722 - accuracy: 0.8438\n",
      "Epoch 134: saving model to model/keypoint_classifier\\keypoint_classifier.hdf5\n",
      "32/32 [==============================] - 0s 3ms/step - loss: 0.4484 - accuracy: 0.8446 - val_loss: 0.2275 - val_accuracy: 0.9508\n",
      "Epoch 135/1000\n",
      " 1/32 [..............................] - ETA: 0s - loss: 0.5424 - accuracy: 0.8203\n",
      "Epoch 135: saving model to model/keypoint_classifier\\keypoint_classifier.hdf5\n",
      "32/32 [==============================] - 0s 3ms/step - loss: 0.4519 - accuracy: 0.8446 - val_loss: 0.2297 - val_accuracy: 0.9501\n",
      "Epoch 136/1000\n",
      "30/32 [===========================>..] - ETA: 0s - loss: 0.4584 - accuracy: 0.8378\n",
      "Epoch 136: saving model to model/keypoint_classifier\\keypoint_classifier.hdf5\n",
      "32/32 [==============================] - 0s 5ms/step - loss: 0.4577 - accuracy: 0.8377 - val_loss: 0.2256 - val_accuracy: 0.9559\n",
      "Epoch 137/1000\n",
      "32/32 [==============================] - ETA: 0s - loss: 0.4733 - accuracy: 0.8306\n",
      "Epoch 137: saving model to model/keypoint_classifier\\keypoint_classifier.hdf5\n",
      "32/32 [==============================] - 0s 4ms/step - loss: 0.4733 - accuracy: 0.8306 - val_loss: 0.2274 - val_accuracy: 0.9559\n",
      "Epoch 138/1000\n",
      "29/32 [==========================>...] - ETA: 0s - loss: 0.4635 - accuracy: 0.8303\n",
      "Epoch 138: saving model to model/keypoint_classifier\\keypoint_classifier.hdf5\n",
      "32/32 [==============================] - 0s 4ms/step - loss: 0.4596 - accuracy: 0.8323 - val_loss: 0.2231 - val_accuracy: 0.9559\n",
      "Epoch 139/1000\n",
      "31/32 [============================>.] - ETA: 0s - loss: 0.4812 - accuracy: 0.8291\n",
      "Epoch 139: saving model to model/keypoint_classifier\\keypoint_classifier.hdf5\n",
      "32/32 [==============================] - 0s 3ms/step - loss: 0.4765 - accuracy: 0.8313 - val_loss: 0.2296 - val_accuracy: 0.9552\n",
      "Epoch 140/1000\n",
      "32/32 [==============================] - ETA: 0s - loss: 0.4650 - accuracy: 0.8316\n",
      "Epoch 140: saving model to model/keypoint_classifier\\keypoint_classifier.hdf5\n",
      "32/32 [==============================] - 0s 4ms/step - loss: 0.4650 - accuracy: 0.8316 - val_loss: 0.2288 - val_accuracy: 0.9618\n",
      "Epoch 140: early stopping\n"
     ]
    },
    {
     "data": {
      "text/plain": [
       "<keras.src.callbacks.History at 0x1d801707880>"
      ]
     },
     "execution_count": 11,
     "metadata": {},
     "output_type": "execute_result"
    },
    {
     "name": "stdout",
     "output_type": "stream",
     "text": [
      "Epoch 109/1000\n",
      " 1/27 [>.............................] - ETA: 0s - loss: 0.5373 - accuracy: 0.7969\n",
      "Epoch 00109: saving model to model/keypoint_classifier\\keypoint_classifier.hdf5\n",
      "27/27 [==============================] - 0s 3ms/step - loss: 0.4198 - accuracy: 0.8379 - val_loss: 0.1955 - val_accuracy: 0.9659\n",
      "Epoch 110/1000\n",
      " 1/27 [>.............................] - ETA: 0s - loss: 0.3872 - accuracy: 0.8281\n",
      "Epoch 00110: saving model to model/keypoint_classifier\\keypoint_classifier.hdf5\n",
      "27/27 [==============================] - 0s 3ms/step - loss: 0.4077 - accuracy: 0.8505 - val_loss: 0.2020 - val_accuracy: 0.9614\n",
      "Epoch 111/1000\n",
      " 1/27 [>.............................] - ETA: 0s - loss: 0.3474 - accuracy: 0.8828\n",
      "Epoch 00111: saving model to model/keypoint_classifier\\keypoint_classifier.hdf5\n",
      "27/27 [==============================] - 0s 3ms/step - loss: 0.4132 - accuracy: 0.8433 - val_loss: 0.1984 - val_accuracy: 0.9632\n",
      "Epoch 112/1000\n",
      " 1/27 [>.............................] - ETA: 0s - loss: 0.4205 - accuracy: 0.8672\n",
      "Epoch 00112: saving model to model/keypoint_classifier\\keypoint_classifier.hdf5\n",
      "27/27 [==============================] - 0s 3ms/step - loss: 0.4182 - accuracy: 0.8397 - val_loss: 0.1973 - val_accuracy: 0.9614\n",
      "Epoch 113/1000\n",
      " 1/27 [>.............................] - ETA: 0s - loss: 0.4995 - accuracy: 0.8125\n",
      "Epoch 00113: saving model to model/keypoint_classifier\\keypoint_classifier.hdf5\n",
      "27/27 [==============================] - 0s 3ms/step - loss: 0.4042 - accuracy: 0.8478 - val_loss: 0.1922 - val_accuracy: 0.9650\n",
      "Epoch 114/1000\n",
      " 1/27 [>.............................] - ETA: 0s - loss: 0.3640 - accuracy: 0.8750\n",
      "Epoch 00114: saving model to model/keypoint_classifier\\keypoint_classifier.hdf5\n",
      "27/27 [==============================] - 0s 3ms/step - loss: 0.4072 - accuracy: 0.8430 - val_loss: 0.1868 - val_accuracy: 0.9596\n",
      "Epoch 115/1000\n",
      " 1/27 [>.............................] - ETA: 0s - loss: 0.5042 - accuracy: 0.8203\n",
      "Epoch 00115: saving model to model/keypoint_classifier\\keypoint_classifier.hdf5\n",
      "27/27 [==============================] - 0s 3ms/step - loss: 0.3999 - accuracy: 0.8535 - val_loss: 0.1966 - val_accuracy: 0.9605\n",
      "Epoch 116/1000\n",
      " 1/27 [>.............................] - ETA: 0s - loss: 0.5355 - accuracy: 0.7422\n",
      "Epoch 00116: saving model to model/keypoint_classifier\\keypoint_classifier.hdf5\n",
      "27/27 [==============================] - 0s 3ms/step - loss: 0.4174 - accuracy: 0.8433 - val_loss: 0.1919 - val_accuracy: 0.9659\n",
      "Epoch 117/1000\n",
      " 1/27 [>.............................] - ETA: 0s - loss: 0.3729 - accuracy: 0.8750\n",
      "Epoch 00117: saving model to model/keypoint_classifier\\keypoint_classifier.hdf5\n",
      "27/27 [==============================] - 0s 3ms/step - loss: 0.4101 - accuracy: 0.8451 - val_loss: 0.1932 - val_accuracy: 0.9578\n",
      "Epoch 118/1000\n",
      " 1/27 [>.............................] - ETA: 0s - loss: 0.3193 - accuracy: 0.8828\n",
      "Epoch 00118: saving model to model/keypoint_classifier\\keypoint_classifier.hdf5\n",
      "27/27 [==============================] - 0s 3ms/step - loss: 0.4260 - accuracy: 0.8379 - val_loss: 0.1865 - val_accuracy: 0.9641\n",
      "Epoch 119/1000\n",
      " 1/27 [>.............................] - ETA: 0s - loss: 0.3852 - accuracy: 0.8438\n",
      "Epoch 00119: saving model to model/keypoint_classifier\\keypoint_classifier.hdf5\n",
      "27/27 [==============================] - 0s 3ms/step - loss: 0.3797 - accuracy: 0.8622 - val_loss: 0.1900 - val_accuracy: 0.9677\n",
      "Epoch 120/1000\n",
      " 1/27 [>.............................] - ETA: 0s - loss: 0.3636 - accuracy: 0.8594\n",
      "Epoch 00120: saving model to model/keypoint_classifier\\keypoint_classifier.hdf5\n",
      "27/27 [==============================] - 0s 3ms/step - loss: 0.4017 - accuracy: 0.8460 - val_loss: 0.1908 - val_accuracy: 0.9659\n",
      "Epoch 121/1000\n",
      " 1/27 [>.............................] - ETA: 0s - loss: 0.4521 - accuracy: 0.8359\n",
      "Epoch 00121: saving model to model/keypoint_classifier\\keypoint_classifier.hdf5\n",
      "27/27 [==============================] - 0s 3ms/step - loss: 0.4023 - accuracy: 0.8538 - val_loss: 0.1935 - val_accuracy: 0.9659\n",
      "Epoch 122/1000\n",
      " 1/27 [>.............................] - ETA: 0s - loss: 0.4849 - accuracy: 0.8203\n",
      "Epoch 00122: saving model to model/keypoint_classifier\\keypoint_classifier.hdf5\n",
      "27/27 [==============================] - 0s 3ms/step - loss: 0.4186 - accuracy: 0.8457 - val_loss: 0.1937 - val_accuracy: 0.9659\n",
      "Epoch 123/1000\n",
      " 1/27 [>.............................] - ETA: 0s - loss: 0.4021 - accuracy: 0.8516\n",
      "Epoch 00123: saving model to model/keypoint_classifier\\keypoint_classifier.hdf5\n",
      "27/27 [==============================] - 0s 3ms/step - loss: 0.4156 - accuracy: 0.8478 - val_loss: 0.1907 - val_accuracy: 0.9632\n",
      "Epoch 124/1000\n",
      " 1/27 [>.............................] - ETA: 0s - loss: 0.3601 - accuracy: 0.8906\n",
      "Epoch 00124: saving model to model/keypoint_classifier\\keypoint_classifier.hdf5\n",
      "27/27 [==============================] - 0s 3ms/step - loss: 0.3948 - accuracy: 0.8550 - val_loss: 0.1862 - val_accuracy: 0.9605\n",
      "Epoch 125/1000\n",
      " 1/27 [>.............................] - ETA: 0s - loss: 0.4446 - accuracy: 0.7891\n",
      "Epoch 00125: saving model to model/keypoint_classifier\\keypoint_classifier.hdf5\n",
      "27/27 [==============================] - 0s 3ms/step - loss: 0.4152 - accuracy: 0.8520 - val_loss: 0.1888 - val_accuracy: 0.9623\n",
      "Epoch 126/1000\n",
      " 1/27 [>.............................] - ETA: 0s - loss: 0.3733 - accuracy: 0.8438\n",
      "Epoch 00126: saving model to model/keypoint_classifier\\keypoint_classifier.hdf5\n",
      "27/27 [==============================] - 0s 3ms/step - loss: 0.3913 - accuracy: 0.8550 - val_loss: 0.1937 - val_accuracy: 0.9632\n",
      "Epoch 127/1000\n",
      " 1/27 [>.............................] - ETA: 0s - loss: 0.3000 - accuracy: 0.8828\n",
      "Epoch 00127: saving model to model/keypoint_classifier\\keypoint_classifier.hdf5\n",
      "27/27 [==============================] - 0s 3ms/step - loss: 0.3820 - accuracy: 0.8583 - val_loss: 0.1867 - val_accuracy: 0.9632\n",
      "Epoch 00127: early stopping\n"
     ]
    },
    {
     "data": {
      "text/plain": [
       "<tensorflow.python.keras.callbacks.History at 0x2314aafaaf0>"
      ]
     },
     "execution_count": 11,
     "metadata": {},
     "output_type": "execute_result"
    }
   ],
   "source": [
    "model.fit(\n",
    "    X_train,\n",
    "    y_train,\n",
    "    epochs=1000,\n",
    "    batch_size=128,\n",
    "    validation_data=(X_test, y_test),\n",
    "    callbacks=[cp_callback, es_callback]\n",
    ")"
   ]
  },
  {
   "cell_type": "code",
   "execution_count": 12,
   "metadata": {},
   "outputs": [
    {
     "name": "stdout",
     "output_type": "stream",
     "text": [
      "11/11 [==============================] - 0s 1ms/step - loss: 0.2288 - accuracy: 0.9618\n"
     ]
    }
   ],
   "source": [
    "# 模型评估\n",
    "val_loss, val_acc = model.evaluate(X_test, y_test, batch_size=128)"
   ]
  },
  {
   "cell_type": "code",
   "execution_count": 13,
   "metadata": {},
   "outputs": [],
   "source": [
    "# 加载保存的模型\n",
    "model = tf.keras.models.load_model(model_save_path)"
   ]
  },
  {
   "cell_type": "code",
   "execution_count": 14,
   "metadata": {},
   "outputs": [
    {
     "name": "stdout",
     "output_type": "stream",
     "text": [
      "1/1 [==============================] - 0s 67ms/step\n",
      "[2.2644484e-04 9.9771667e-01 2.0565938e-03 3.8365272e-07]\n",
      "1\n"
     ]
    }
   ],
   "source": [
    "# 推理测试\n",
    "predict_result = model.predict(np.array([X_test[0]]))\n",
    "print(np.squeeze(predict_result))\n",
    "print(np.argmax(np.squeeze(predict_result)))"
   ]
  },
  {
   "cell_type": "markdown",
   "metadata": {},
   "source": [
    "# 混同行列"
   ]
  },
  {
   "cell_type": "code",
   "execution_count": 15,
   "metadata": {},
   "outputs": [
    {
     "name": "stdout",
     "output_type": "stream",
     "text": [
      "43/43 [==============================] - 0s 902us/step\n"
     ]
    },
    {
     "data": {
      "image/png": "[encoded data removed]",
      "text/plain": [
       "<Figure size 700x600 with 2 Axes>"
      ]
     },
     "metadata": {},
     "output_type": "display_data"
    },
    {
     "name": "stdout",
     "output_type": "stream",
     "text": [
      "Classification Report\n",
      "              precision    recall  f1-score   support\n",
      "\n",
      "           0       0.99      0.98      0.98       406\n",
      "           1       0.97      0.94      0.95       383\n",
      "           2       0.90      0.98      0.94       332\n",
      "           3       1.00      0.95      0.97       241\n",
      "\n",
      "    accuracy                           0.96      1362\n",
      "   macro avg       0.96      0.96      0.96      1362\n",
      "weighted avg       0.96      0.96      0.96      1362\n",
      "\n"
     ]
    }
   ],
   "source": [
    "import pandas as pd\n",
    "import seaborn as sns\n",
    "import matplotlib.pyplot as plt\n",
    "from sklearn.metrics import confusion_matrix, classification_report\n",
    "\n",
    "def print_confusion_matrix(y_true, y_pred, report=True):\n",
    "    labels = sorted(list(set(y_true)))\n",
    "    cmx_data = confusion_matrix(y_true, y_pred, labels=labels)\n",
    "    \n",
    "    df_cmx = pd.DataFrame(cmx_data, index=labels, columns=labels)\n",
    " \n",
    "    fig, ax = plt.subplots(figsize=(7, 6))\n",
    "    sns.heatmap(df_cmx, annot=True, fmt='g' ,square=False)\n",
    "    ax.set_ylim(len(set(y_true)), 0)\n",
    "    plt.show()\n",
    "    \n",
    "    if report:\n",
    "        print('Classification Report')\n",
    "        print(classification_report(y_test, y_pred))\n",
    "\n",
    "Y_pred = model.predict(X_test)\n",
    "y_pred = np.argmax(Y_pred, axis=1)\n",
    "\n",
    "print_confusion_matrix(y_test, y_pred)"
   ]
  },
  {
   "cell_type": "markdown",
   "metadata": {},
   "source": [
    "# 转换为 TensorFlow-Lite 模型"
   ]
  },
  {
   "cell_type": "code",
   "execution_count": 16,
   "metadata": {},
   "outputs": [
    {
     "name": "stderr",
     "output_type": "stream",
     "text": [
      "C:\\Users\\culaccino\\AppData\\Local\\Programs\\Python\\Python38\\lib\\site-packages\\keras\\src\\engine\\training.py:3000: UserWarning: You are saving your model as an HDF5 file via `model.save()`. This file format is considered legacy. We recommend using instead the native Keras format, e.g. `model.save('my_model.keras')`.\n",
      "  saving_api.save_model(\n"
     ]
    }
   ],
   "source": [
    "# 另存为仅推理模型\n",
    "model.save(model_save_path, include_optimizer=False)"
   ]
  },
  {
   "cell_type": "code",
   "execution_count": 17,
   "metadata": {},
   "outputs": [
    {
     "name": "stdout",
     "output_type": "stream",
     "text": [
      "INFO:tensorflow:Assets written to: C:\\Users\\CULACC~1\\AppData\\Local\\Temp\\tmp0jgv39kp\\assets\n"
     ]
    },
    {
     "name": "stderr",
     "output_type": "stream",
     "text": [
      "INFO:tensorflow:Assets written to: C:\\Users\\CULACC~1\\AppData\\Local\\Temp\\tmp0jgv39kp\\assets\n"
     ]
    },
    {
     "data": {
      "text/plain": [
       "6544"
      ]
     },
     "execution_count": 17,
     "metadata": {},
     "output_type": "execute_result"
    }
   ],
   "source": [
    "# 转换模型（量化）\n",
    "tflite_save_path = 'model/keypoint_classifier/keypoint_classifier.tflite'\n",
    "\n",
    "converter = tf.lite.TFLiteConverter.from_keras_model(model)\n",
    "converter.optimizations = [tf.lite.Optimize.DEFAULT]\n",
    "tflite_quantized_model = converter.convert()\n",
    "\n",
    "open(tflite_save_path, 'wb').write(tflite_quantized_model)"
   ]
  },
  {
   "cell_type": "markdown",
   "metadata": {},
   "source": [
    "# 推理测试"
   ]
  },
  {
   "cell_type": "code",
   "execution_count": 18,
   "metadata": {},
   "outputs": [],
   "source": [
    "interpreter = tf.lite.Interpreter(model_path=tflite_save_path)\n",
    "interpreter.allocate_tensors()"
   ]
  },
  {
   "cell_type": "code",
   "execution_count": 19,
   "metadata": {},
   "outputs": [],
   "source": [
    "# 获取输入/输出张量\n",
    "input_details = interpreter.get_input_details()\n",
    "output_details = interpreter.get_output_details()"
   ]
  },
  {
   "cell_type": "code",
   "execution_count": 20,
   "metadata": {},
   "outputs": [],
   "source": [
    "interpreter.set_tensor(input_details[0]['index'], np.array([X_test[0]]))"
   ]
  },
  {
   "cell_type": "code",
   "execution_count": 21,
   "metadata": {
    "scrolled": true
   },
   "outputs": [
    {
     "name": "stdout",
     "output_type": "stream",
     "text": [
      "CPU times: total: 0 ns\n",
      "Wall time: 0 ns\n"
     ]
    }
   ],
   "source": [
    "%%time\n",
    "# 推理实现\n",
    "interpreter.invoke()\n",
    "tflite_results = interpreter.get_tensor(output_details[0]['index'])"
   ]
  },
  {
   "cell_type": "code",
   "execution_count": 22,
   "metadata": {},
   "outputs": [
    {
     "name": "stdout",
     "output_type": "stream",
     "text": [
      "[2.2644440e-04 9.9771667e-01 2.0565928e-03 3.8365198e-07]\n",
      "1\n"
     ]
    }
   ],
   "source": [
    "print(np.squeeze(tflite_results))\n",
    "print(np.argmax(np.squeeze(tflite_results)))"
   ]
  }
 ],
 "metadata": {
  "kernelspec": {
   "display_name": "Python 3 (ipykernel)",
   "language": "python",
   "name": "python3"
  },
  "language_info": {
   "codemirror_mode": {
    "name": "ipython",
    "version": 3
   },
   "file_extension": ".py",
   "mimetype": "text/x-python",
   "name": "python",
   "nbconvert_exporter": "python",
   "pygments_lexer": "ipython3",
   "version": "3.8.0"
  }
 },
 "nbformat": 4,
 "nbformat_minor": 4
}